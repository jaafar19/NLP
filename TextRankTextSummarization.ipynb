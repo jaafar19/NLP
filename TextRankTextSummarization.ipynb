{
  "nbformat": 4,
  "nbformat_minor": 0,
  "metadata": {
    "colab": {
      "provenance": [],
      "authorship_tag": "ABX9TyPhSG/IHeR4/sT078YJCeMf",
      "include_colab_link": true
    },
    "kernelspec": {
      "name": "python3",
      "display_name": "Python 3"
    },
    "language_info": {
      "name": "python"
    }
  },
  "cells": [
    {
      "cell_type": "markdown",
      "metadata": {
        "id": "view-in-github",
        "colab_type": "text"
      },
      "source": [
        "<a href=\"https://colab.research.google.com/github/jaafar19/NLP/blob/main/TextRankTextSummarization.ipynb\" target=\"_parent\"><img src=\"https://colab.research.google.com/assets/colab-badge.svg\" alt=\"Open In Colab\"/></a>"
      ]
    },
    {
      "cell_type": "code",
      "execution_count": 1,
      "metadata": {
        "colab": {
          "base_uri": "https://localhost:8080/"
        },
        "id": "xfjhbY8MGitR",
        "outputId": "2656c189-9817-4f26-d996-56edf9764c45"
      },
      "outputs": [
        {
          "output_type": "stream",
          "name": "stderr",
          "text": [
            "[nltk_data] Downloading package stopwords to /root/nltk_data...\n",
            "[nltk_data]   Unzipping corpora/stopwords.zip.\n",
            "[nltk_data] Downloading package punkt_tab to /root/nltk_data...\n",
            "[nltk_data]   Unzipping tokenizers/punkt_tab.zip.\n"
          ]
        },
        {
          "output_type": "execute_result",
          "data": {
            "text/plain": [
              "True"
            ]
          },
          "metadata": {},
          "execution_count": 1
        }
      ],
      "source": [
        "import pandas as pd\n",
        "import numpy as np\n",
        "import textwrap\n",
        "import nltk\n",
        "from nltk.corpus import stopwords\n",
        "from nltk.tokenize import word_tokenize\n",
        "from nltk.stem import WordNetLemmatizer, PorterStemmer\n",
        "from sklearn.feature_extraction.text import TfidfVectorizer\n",
        "\n",
        "nltk.download('stopwords')\n",
        "nltk.download('punkt_tab')"
      ]
    },
    {
      "cell_type": "code",
      "source": [
        "!wget -nc https://lazyprogrammer.me/course_files/nlp/bbc_text_cls.csv"
      ],
      "metadata": {
        "colab": {
          "base_uri": "https://localhost:8080/"
        },
        "id": "fbRXiWvlGtsu",
        "outputId": "5119f185-84a6-4271-d565-53971a254051"
      },
      "execution_count": 2,
      "outputs": [
        {
          "output_type": "stream",
          "name": "stdout",
          "text": [
            "--2025-04-03 10:04:29--  https://lazyprogrammer.me/course_files/nlp/bbc_text_cls.csv\n",
            "Resolving lazyprogrammer.me (lazyprogrammer.me)... 172.67.213.166, 104.21.23.210, 2606:4700:3030::ac43:d5a6, ...\n",
            "Connecting to lazyprogrammer.me (lazyprogrammer.me)|172.67.213.166|:443... connected.\n",
            "HTTP request sent, awaiting response... 200 OK\n",
            "Length: 5085081 (4.8M) [text/csv]\n",
            "Saving to: ‘bbc_text_cls.csv’\n",
            "\n",
            "bbc_text_cls.csv    100%[===================>]   4.85M  --.-KB/s    in 0.08s   \n",
            "\n",
            "2025-04-03 10:04:29 (57.4 MB/s) - ‘bbc_text_cls.csv’ saved [5085081/5085081]\n",
            "\n"
          ]
        }
      ]
    },
    {
      "cell_type": "code",
      "source": [
        "df = pd.read_csv('bbc_text_cls.csv')"
      ],
      "metadata": {
        "id": "I3nlkfgUHARM"
      },
      "execution_count": 3,
      "outputs": []
    },
    {
      "cell_type": "code",
      "source": [
        "doc = df[df.labels == 'business']['text'].sample(random_state=42)\n",
        "doc"
      ],
      "metadata": {
        "colab": {
          "base_uri": "https://localhost:8080/",
          "height": 115
        },
        "id": "9_IBW82eHTFj",
        "outputId": "ad3802ca-d1c0-46dc-d7cf-e8fef566c9b0"
      },
      "execution_count": 6,
      "outputs": [
        {
          "output_type": "execute_result",
          "data": {
            "text/plain": [
              "480    Christmas sales worst since 1981\\n\\nUK retail ...\n",
              "Name: text, dtype: object"
            ],
            "text/html": [
              "<div>\n",
              "<style scoped>\n",
              "    .dataframe tbody tr th:only-of-type {\n",
              "        vertical-align: middle;\n",
              "    }\n",
              "\n",
              "    .dataframe tbody tr th {\n",
              "        vertical-align: top;\n",
              "    }\n",
              "\n",
              "    .dataframe thead th {\n",
              "        text-align: right;\n",
              "    }\n",
              "</style>\n",
              "<table border=\"1\" class=\"dataframe\">\n",
              "  <thead>\n",
              "    <tr style=\"text-align: right;\">\n",
              "      <th></th>\n",
              "      <th>text</th>\n",
              "    </tr>\n",
              "  </thead>\n",
              "  <tbody>\n",
              "    <tr>\n",
              "      <th>480</th>\n",
              "      <td>Christmas sales worst since 1981\\n\\nUK retail ...</td>\n",
              "    </tr>\n",
              "  </tbody>\n",
              "</table>\n",
              "</div><br><label><b>dtype:</b> object</label>"
            ]
          },
          "metadata": {},
          "execution_count": 6
        }
      ]
    },
    {
      "cell_type": "code",
      "source": [
        "def wrap(x):\n",
        "  return textwrap.fill(x, replace_whitespace=False, fix_sentence_endings=True)"
      ],
      "metadata": {
        "id": "DPd1k1eUHGW8"
      },
      "execution_count": 7,
      "outputs": []
    },
    {
      "cell_type": "code",
      "source": [
        "print (wrap(doc.iloc[0]))"
      ],
      "metadata": {
        "colab": {
          "base_uri": "https://localhost:8080/"
        },
        "id": "8cTOYX0oHI5A",
        "outputId": "86b51a35-607c-436f-8338-c18baf6a401f"
      },
      "execution_count": 8,
      "outputs": [
        {
          "output_type": "stream",
          "name": "stdout",
          "text": [
            "Christmas sales worst since 1981\n",
            "\n",
            "UK retail sales fell in December,\n",
            "failing to meet expectations and making it by some counts the worst\n",
            "Christmas since 1981.\n",
            "\n",
            "Retail sales dropped by 1% on the month in\n",
            "December, after a 0.6% rise in November, the Office for National\n",
            "Statistics (ONS) said.  The ONS revised the annual 2004 rate of growth\n",
            "down from the 5.9% estimated in November to 3.2%. A number of\n",
            "retailers have already reported poor figures for December.  Clothing\n",
            "retailers and non-specialist stores were the worst hit with only\n",
            "internet retailers showing any significant growth, according to the\n",
            "ONS.\n",
            "\n",
            "The last time retailers endured a tougher Christmas was 23 years\n",
            "previously, when sales plunged 1.7%.\n",
            "\n",
            "The ONS echoed an earlier\n",
            "caution from Bank of England governor Mervyn King not to read too much\n",
            "into the poor December figures.  Some analysts put a positive gloss on\n",
            "the figures, pointing out that the non-seasonally-adjusted figures\n",
            "showed a performance comparable with 2003. The November-December jump\n",
            "last year was roughly comparable with recent averages, although some\n",
            "way below the serious booms seen in the 1990s.  And figures for retail\n",
            "volume outperformed measures of actual spending, an indication that\n",
            "consumers are looking for bargains, and retailers are cutting their\n",
            "prices.\n",
            "\n",
            "However, reports from some High Street retailers highlight\n",
            "the weakness of the sector.  Morrisons, Woolworths, House of Fraser,\n",
            "Marks & Spencer and Big Food all said that the festive period was\n",
            "disappointing.\n",
            "\n",
            "And a British Retail Consortium survey found that\n",
            "Christmas 2004 was the worst for 10 years.  Yet, other retailers -\n",
            "including HMV, Monsoon, Jessops, Body Shop and Tesco - reported that\n",
            "festive sales were well up on last year.  Investec chief economist\n",
            "Philip Shaw said he did not expect the poor retail figures to have any\n",
            "immediate effect on interest rates.  \"The retail sales figures are\n",
            "very weak, but as Bank of England governor Mervyn King indicated last\n",
            "night, you don't really get an accurate impression of Christmas\n",
            "trading until about Easter,\" said Mr Shaw.  \"Our view is the Bank of\n",
            "England will keep its powder dry and wait to see the big picture.\"\n"
          ]
        }
      ]
    },
    {
      "cell_type": "code",
      "source": [
        "sents = nltk.sent_tokenize(doc.iloc[0].split(\"\\n\", 1)[1])"
      ],
      "metadata": {
        "id": "-P5G5X9jHMeq"
      },
      "execution_count": 9,
      "outputs": []
    },
    {
      "cell_type": "code",
      "source": [
        "featurizer = TfidfVectorizer(stop_words=stopwords.words('english'), norm='l1')"
      ],
      "metadata": {
        "id": "_pNmeO7jHZTF"
      },
      "execution_count": 10,
      "outputs": []
    },
    {
      "cell_type": "code",
      "source": [
        "x = featurizer.fit_transform(sents)"
      ],
      "metadata": {
        "id": "MPDlVGogHbod"
      },
      "execution_count": 11,
      "outputs": []
    },
    {
      "cell_type": "code",
      "source": [
        "from sklearn.metrics.pairwise import cosine_similarity\n",
        "\n",
        "S= cosine_similarity(x)"
      ],
      "metadata": {
        "id": "keEeOP7MHdwP"
      },
      "execution_count": 12,
      "outputs": []
    },
    {
      "cell_type": "code",
      "source": [
        "S"
      ],
      "metadata": {
        "colab": {
          "base_uri": "https://localhost:8080/"
        },
        "id": "2LdETMYjHzJF",
        "outputId": "26db42f0-7dba-4381-efc5-b085578b1e94"
      },
      "execution_count": 15,
      "outputs": [
        {
          "output_type": "execute_result",
          "data": {
            "text/plain": [
              "array([[1.        , 0.12277059, 0.        , 0.05996659, 0.05227621,\n",
              "        0.09521169, 0.03957788, 0.        , 0.0353568 , 0.03154382,\n",
              "        0.        , 0.        , 0.15640655, 0.03602562, 0.03219522,\n",
              "        0.09434004, 0.        ],\n",
              "       [0.12277059, 1.        , 0.14622599, 0.06787268, 0.04909301,\n",
              "        0.04940377, 0.09771336, 0.        , 0.09699398, 0.03570261,\n",
              "        0.        , 0.05146693, 0.0438789 , 0.04077529, 0.08658211,\n",
              "        0.10677797, 0.        ],\n",
              "       [0.        , 0.14622599, 1.        , 0.        , 0.14160853,\n",
              "        0.        , 0.06110337, 0.        , 0.06578936, 0.        ,\n",
              "        0.        , 0.        , 0.10444293, 0.        , 0.        ,\n",
              "        0.        , 0.        ],\n",
              "       [0.05996659, 0.06787268, 0.        , 1.        , 0.0996264 ,\n",
              "        0.05921692, 0.20528561, 0.09620589, 0.05587403, 0.09969683,\n",
              "        0.0638979 , 0.        , 0.        , 0.14962341, 0.13525503,\n",
              "        0.04210404, 0.        ],\n",
              "       [0.05227621, 0.04909301, 0.14160853, 0.0996264 , 1.        ,\n",
              "        0.07251695, 0.04523913, 0.06071453, 0.        , 0.06104429,\n",
              "        0.07824927, 0.        , 0.06221106, 0.05985171, 0.        ,\n",
              "        0.        , 0.        ],\n",
              "       [0.09521169, 0.04940377, 0.        , 0.05921692, 0.07251695,\n",
              "        1.        , 0.        , 0.        , 0.04804365, 0.03628411,\n",
              "        0.04651057, 0.        , 0.15328604, 0.12596713, 0.        ,\n",
              "        0.12004119, 0.        ],\n",
              "       [0.03957788, 0.09771336, 0.06110337, 0.20528561, 0.04523913,\n",
              "        0.        , 1.        , 0.06349577, 0.03687679, 0.0328999 ,\n",
              "        0.        , 0.        , 0.        , 0.        , 0.08926816,\n",
              "        0.29180787, 0.12665562],\n",
              "       [0.        , 0.        , 0.        , 0.09620589, 0.06071453,\n",
              "        0.        , 0.06349577, 1.        , 0.05846453, 0.05894844,\n",
              "        0.        , 0.        , 0.        , 0.        , 0.06016575,\n",
              "        0.0497903 , 0.        ],\n",
              "       [0.0353568 , 0.09699398, 0.06578936, 0.05587403, 0.        ,\n",
              "        0.04804365, 0.03687679, 0.05846453, 1.        , 0.        ,\n",
              "        0.        , 0.        , 0.        , 0.09905508, 0.        ,\n",
              "        0.03415969, 0.        ],\n",
              "       [0.03154382, 0.03570261, 0.        , 0.09969683, 0.06104429,\n",
              "        0.03628411, 0.0328999 , 0.05894844, 0.        , 1.        ,\n",
              "        0.0391523 , 0.        , 0.03753858, 0.02994701, 0.06234894,\n",
              "        0.051597  , 0.        ],\n",
              "       [0.        , 0.        , 0.        , 0.0638979 , 0.07824927,\n",
              "        0.04651057, 0.        , 0.        , 0.        , 0.0391523 ,\n",
              "        1.        , 0.        , 0.        , 0.0383874 , 0.        ,\n",
              "        0.        , 0.        ],\n",
              "       [0.        , 0.05146693, 0.        , 0.        , 0.        ,\n",
              "        0.        , 0.        , 0.        , 0.        , 0.        ,\n",
              "        0.        , 1.        , 0.        , 0.06467143, 0.04493941,\n",
              "        0.03718971, 0.07655687],\n",
              "       [0.15640655, 0.0438789 , 0.10444293, 0.        , 0.06221106,\n",
              "        0.15328604, 0.        , 0.        , 0.        , 0.03753858,\n",
              "        0.        , 0.        , 1.        , 0.        , 0.03831377,\n",
              "        0.0753358 , 0.        ],\n",
              "       [0.03602562, 0.04077529, 0.        , 0.14962341, 0.05985171,\n",
              "        0.12596713, 0.        , 0.        , 0.09905508, 0.02994701,\n",
              "        0.0383874 , 0.06467143, 0.        , 1.        , 0.        ,\n",
              "        0.06426986, 0.        ],\n",
              "       [0.03219522, 0.08658211, 0.        , 0.13525503, 0.        ,\n",
              "        0.        , 0.08926816, 0.06016575, 0.        , 0.06234894,\n",
              "        0.        , 0.04493941, 0.03831377, 0.        , 1.        ,\n",
              "        0.1431736 , 0.        ],\n",
              "       [0.09434004, 0.10677797, 0.        , 0.04210404, 0.        ,\n",
              "        0.12004119, 0.29180787, 0.0497903 , 0.03415969, 0.051597  ,\n",
              "        0.        , 0.03718971, 0.0753358 , 0.06426986, 0.1431736 ,\n",
              "        1.        , 0.09931718],\n",
              "       [0.        , 0.        , 0.        , 0.        , 0.        ,\n",
              "        0.        , 0.12665562, 0.        , 0.        , 0.        ,\n",
              "        0.        , 0.07655687, 0.        , 0.        , 0.        ,\n",
              "        0.09931718, 1.        ]])"
            ]
          },
          "metadata": {},
          "execution_count": 15
        }
      ]
    },
    {
      "cell_type": "code",
      "source": [
        "len(sents)"
      ],
      "metadata": {
        "colab": {
          "base_uri": "https://localhost:8080/"
        },
        "id": "qinCmGNqHz0h",
        "outputId": "d69dbe18-181c-4bfb-a5b3-78851d56bac4"
      },
      "execution_count": 16,
      "outputs": [
        {
          "output_type": "execute_result",
          "data": {
            "text/plain": [
              "17"
            ]
          },
          "metadata": {},
          "execution_count": 16
        }
      ]
    },
    {
      "cell_type": "code",
      "source": [
        "S /= S.sum(axis=1, keepdims=True)"
      ],
      "metadata": {
        "id": "f9HlbJnrIGN-"
      },
      "execution_count": 17,
      "outputs": []
    },
    {
      "cell_type": "code",
      "source": [
        "S"
      ],
      "metadata": {
        "colab": {
          "base_uri": "https://localhost:8080/"
        },
        "id": "m1gd-rxoIi7o",
        "outputId": "c22007cc-c53a-469e-ee6e-86b736ae7206"
      },
      "execution_count": 18,
      "outputs": [
        {
          "output_type": "execute_result",
          "data": {
            "text/plain": [
              "array([[0.56958279, 0.06992802, 0.        , 0.03415594, 0.02977563,\n",
              "        0.05423094, 0.02254288, 0.        , 0.02013862, 0.01796682,\n",
              "        0.        , 0.        , 0.08908648, 0.02051957, 0.01833784,\n",
              "        0.05373446, 0.        ],\n",
              "       [0.06153121, 0.50118852, 0.07328679, 0.03401701, 0.02460485,\n",
              "        0.0247606 , 0.04897281, 0.        , 0.04861227, 0.01789374,\n",
              "        0.        , 0.02579464, 0.0219916 , 0.02043611, 0.04339396,\n",
              "        0.05351589, 0.        ],\n",
              "       [0.        , 0.09625386, 0.6582541 , 0.        , 0.09321439,\n",
              "        0.        , 0.04022154, 0.        , 0.04330612, 0.        ,\n",
              "        0.        , 0.        , 0.06874999, 0.        , 0.        ,\n",
              "        0.        , 0.        ],\n",
              "       [0.02809233, 0.03179606, 0.        , 0.46846628, 0.04667161,\n",
              "        0.02774113, 0.09616939, 0.04506922, 0.0261751 , 0.04670461,\n",
              "        0.02993401, 0.        , 0.        , 0.07009352, 0.06336242,\n",
              "        0.01972432, 0.        ],\n",
              "       [0.0293286 , 0.02754272, 0.07944685, 0.05589355, 0.56103151,\n",
              "        0.04068429, 0.02538058, 0.03406276, 0.        , 0.03424777,\n",
              "        0.04390031, 0.        , 0.03490236, 0.03357869, 0.        ,\n",
              "        0.        , 0.        ],\n",
              "       [0.05270558, 0.02734805, 0.        , 0.03278025, 0.04014263,\n",
              "        0.5535621 , 0.        , 0.        , 0.02659515, 0.02008551,\n",
              "        0.02574649, 0.        , 0.08485334, 0.06973063, 0.        ,\n",
              "        0.06645026, 0.        ],\n",
              "       [0.01893748, 0.04675452, 0.02923713, 0.09822638, 0.02164631,\n",
              "        0.        , 0.47848642, 0.03038187, 0.01764504, 0.01574215,\n",
              "        0.        , 0.        , 0.        , 0.        , 0.0427136 ,\n",
              "        0.1396261 , 0.06060299],\n",
              "       [0.        , 0.        , 0.        , 0.06645039, 0.04193614,\n",
              "        0.        , 0.04385718, 0.69071019, 0.04038205, 0.04071629,\n",
              "        0.        , 0.        , 0.        , 0.        , 0.0415571 ,\n",
              "        0.03439067, 0.        ],\n",
              "       [0.02309975, 0.06336933, 0.04298234, 0.03650432, 0.        ,\n",
              "        0.03138849, 0.02409281, 0.03819679, 0.65333262, 0.        ,\n",
              "        0.        , 0.        , 0.        , 0.06471591, 0.        ,\n",
              "        0.02231764, 0.        ],\n",
              "       [0.02000618, 0.02264383, 0.        , 0.06323117, 0.0387164 ,\n",
              "        0.02301264, 0.02086625, 0.03738714, 0.        , 0.63423453,\n",
              "        0.02483174, 0.        , 0.02380826, 0.01899343, 0.03954385,\n",
              "        0.0327246 , 0.        ],\n",
              "       [0.        , 0.        , 0.        , 0.05046441, 0.06179863,\n",
              "        0.03673248, 0.        , 0.        , 0.        , 0.03092116,\n",
              "        0.78976625, 0.        , 0.        , 0.03031707, 0.        ,\n",
              "        0.        , 0.        ],\n",
              "       [0.        , 0.04037178, 0.        , 0.        , 0.        ,\n",
              "        0.        , 0.        , 0.        , 0.        , 0.        ,\n",
              "        0.        , 0.78442179, 0.        , 0.05072968, 0.03525146,\n",
              "        0.02917242, 0.06005288],\n",
              "       [0.0935774 , 0.02625257, 0.06248778, 0.        , 0.03722062,\n",
              "        0.09171042, 0.        , 0.        , 0.        , 0.02245918,\n",
              "        0.        , 0.        , 0.59829595, 0.        , 0.02292297,\n",
              "        0.0450731 , 0.        ],\n",
              "       [0.0210852 , 0.0238651 , 0.        , 0.0875721 , 0.03503021,\n",
              "        0.07372647, 0.        , 0.        , 0.0579753 , 0.01752749,\n",
              "        0.02246751, 0.03785111, 0.        , 0.58528342, 0.        ,\n",
              "        0.03761609, 0.        ],\n",
              "       [0.01902519, 0.05116414, 0.        , 0.07992653, 0.        ,\n",
              "        0.        , 0.05275141, 0.03555387, 0.        , 0.03684398,\n",
              "        0.        , 0.02655614, 0.02264083, 0.        , 0.59093204,\n",
              "        0.08460586, 0.        ],\n",
              "       [0.04268965, 0.04831792, 0.        , 0.01905243, 0.        ,\n",
              "        0.05431964, 0.13204548, 0.02253052, 0.01545755, 0.02334807,\n",
              "        0.        , 0.01682865, 0.03409007, 0.02908265, 0.06478724,\n",
              "        0.45250829, 0.04494185],\n",
              "       [0.        , 0.        , 0.        , 0.        , 0.        ,\n",
              "        0.        , 0.09723818, 0.        , 0.        , 0.        ,\n",
              "        0.        , 0.05877553, 0.        , 0.        , 0.        ,\n",
              "        0.07624945, 0.76773683]])"
            ]
          },
          "metadata": {},
          "execution_count": 18
        }
      ]
    },
    {
      "cell_type": "code",
      "source": [
        "S[0].sum()"
      ],
      "metadata": {
        "colab": {
          "base_uri": "https://localhost:8080/"
        },
        "id": "53iq76asIjt_",
        "outputId": "98136c9b-c279-4b14-82d5-8915f1d1e36d"
      },
      "execution_count": 20,
      "outputs": [
        {
          "output_type": "execute_result",
          "data": {
            "text/plain": [
              "np.float64(1.0)"
            ]
          },
          "metadata": {},
          "execution_count": 20
        }
      ]
    },
    {
      "cell_type": "code",
      "source": [
        "U = np.ones_like(S) / len(S)"
      ],
      "metadata": {
        "id": "UJjI_JsUIui_"
      },
      "execution_count": 21,
      "outputs": []
    },
    {
      "cell_type": "code",
      "source": [
        "U"
      ],
      "metadata": {
        "colab": {
          "base_uri": "https://localhost:8080/"
        },
        "id": "CemgH0QVI6FI",
        "outputId": "809d9ea7-bf6d-4c0e-8e14-50cf89570e45"
      },
      "execution_count": 22,
      "outputs": [
        {
          "output_type": "execute_result",
          "data": {
            "text/plain": [
              "array([[0.05882353, 0.05882353, 0.05882353, 0.05882353, 0.05882353,\n",
              "        0.05882353, 0.05882353, 0.05882353, 0.05882353, 0.05882353,\n",
              "        0.05882353, 0.05882353, 0.05882353, 0.05882353, 0.05882353,\n",
              "        0.05882353, 0.05882353],\n",
              "       [0.05882353, 0.05882353, 0.05882353, 0.05882353, 0.05882353,\n",
              "        0.05882353, 0.05882353, 0.05882353, 0.05882353, 0.05882353,\n",
              "        0.05882353, 0.05882353, 0.05882353, 0.05882353, 0.05882353,\n",
              "        0.05882353, 0.05882353],\n",
              "       [0.05882353, 0.05882353, 0.05882353, 0.05882353, 0.05882353,\n",
              "        0.05882353, 0.05882353, 0.05882353, 0.05882353, 0.05882353,\n",
              "        0.05882353, 0.05882353, 0.05882353, 0.05882353, 0.05882353,\n",
              "        0.05882353, 0.05882353],\n",
              "       [0.05882353, 0.05882353, 0.05882353, 0.05882353, 0.05882353,\n",
              "        0.05882353, 0.05882353, 0.05882353, 0.05882353, 0.05882353,\n",
              "        0.05882353, 0.05882353, 0.05882353, 0.05882353, 0.05882353,\n",
              "        0.05882353, 0.05882353],\n",
              "       [0.05882353, 0.05882353, 0.05882353, 0.05882353, 0.05882353,\n",
              "        0.05882353, 0.05882353, 0.05882353, 0.05882353, 0.05882353,\n",
              "        0.05882353, 0.05882353, 0.05882353, 0.05882353, 0.05882353,\n",
              "        0.05882353, 0.05882353],\n",
              "       [0.05882353, 0.05882353, 0.05882353, 0.05882353, 0.05882353,\n",
              "        0.05882353, 0.05882353, 0.05882353, 0.05882353, 0.05882353,\n",
              "        0.05882353, 0.05882353, 0.05882353, 0.05882353, 0.05882353,\n",
              "        0.05882353, 0.05882353],\n",
              "       [0.05882353, 0.05882353, 0.05882353, 0.05882353, 0.05882353,\n",
              "        0.05882353, 0.05882353, 0.05882353, 0.05882353, 0.05882353,\n",
              "        0.05882353, 0.05882353, 0.05882353, 0.05882353, 0.05882353,\n",
              "        0.05882353, 0.05882353],\n",
              "       [0.05882353, 0.05882353, 0.05882353, 0.05882353, 0.05882353,\n",
              "        0.05882353, 0.05882353, 0.05882353, 0.05882353, 0.05882353,\n",
              "        0.05882353, 0.05882353, 0.05882353, 0.05882353, 0.05882353,\n",
              "        0.05882353, 0.05882353],\n",
              "       [0.05882353, 0.05882353, 0.05882353, 0.05882353, 0.05882353,\n",
              "        0.05882353, 0.05882353, 0.05882353, 0.05882353, 0.05882353,\n",
              "        0.05882353, 0.05882353, 0.05882353, 0.05882353, 0.05882353,\n",
              "        0.05882353, 0.05882353],\n",
              "       [0.05882353, 0.05882353, 0.05882353, 0.05882353, 0.05882353,\n",
              "        0.05882353, 0.05882353, 0.05882353, 0.05882353, 0.05882353,\n",
              "        0.05882353, 0.05882353, 0.05882353, 0.05882353, 0.05882353,\n",
              "        0.05882353, 0.05882353],\n",
              "       [0.05882353, 0.05882353, 0.05882353, 0.05882353, 0.05882353,\n",
              "        0.05882353, 0.05882353, 0.05882353, 0.05882353, 0.05882353,\n",
              "        0.05882353, 0.05882353, 0.05882353, 0.05882353, 0.05882353,\n",
              "        0.05882353, 0.05882353],\n",
              "       [0.05882353, 0.05882353, 0.05882353, 0.05882353, 0.05882353,\n",
              "        0.05882353, 0.05882353, 0.05882353, 0.05882353, 0.05882353,\n",
              "        0.05882353, 0.05882353, 0.05882353, 0.05882353, 0.05882353,\n",
              "        0.05882353, 0.05882353],\n",
              "       [0.05882353, 0.05882353, 0.05882353, 0.05882353, 0.05882353,\n",
              "        0.05882353, 0.05882353, 0.05882353, 0.05882353, 0.05882353,\n",
              "        0.05882353, 0.05882353, 0.05882353, 0.05882353, 0.05882353,\n",
              "        0.05882353, 0.05882353],\n",
              "       [0.05882353, 0.05882353, 0.05882353, 0.05882353, 0.05882353,\n",
              "        0.05882353, 0.05882353, 0.05882353, 0.05882353, 0.05882353,\n",
              "        0.05882353, 0.05882353, 0.05882353, 0.05882353, 0.05882353,\n",
              "        0.05882353, 0.05882353],\n",
              "       [0.05882353, 0.05882353, 0.05882353, 0.05882353, 0.05882353,\n",
              "        0.05882353, 0.05882353, 0.05882353, 0.05882353, 0.05882353,\n",
              "        0.05882353, 0.05882353, 0.05882353, 0.05882353, 0.05882353,\n",
              "        0.05882353, 0.05882353],\n",
              "       [0.05882353, 0.05882353, 0.05882353, 0.05882353, 0.05882353,\n",
              "        0.05882353, 0.05882353, 0.05882353, 0.05882353, 0.05882353,\n",
              "        0.05882353, 0.05882353, 0.05882353, 0.05882353, 0.05882353,\n",
              "        0.05882353, 0.05882353],\n",
              "       [0.05882353, 0.05882353, 0.05882353, 0.05882353, 0.05882353,\n",
              "        0.05882353, 0.05882353, 0.05882353, 0.05882353, 0.05882353,\n",
              "        0.05882353, 0.05882353, 0.05882353, 0.05882353, 0.05882353,\n",
              "        0.05882353, 0.05882353]])"
            ]
          },
          "metadata": {},
          "execution_count": 22
        }
      ]
    },
    {
      "cell_type": "code",
      "source": [
        "factor = 0.15\n",
        "S = (1 - factor) * S + factor * U"
      ],
      "metadata": {
        "id": "qrxmX7rOI-_H"
      },
      "execution_count": 23,
      "outputs": []
    },
    {
      "cell_type": "code",
      "source": [
        "S[0].sum()"
      ],
      "metadata": {
        "colab": {
          "base_uri": "https://localhost:8080/"
        },
        "id": "MJjR0Ez4JkOH",
        "outputId": "e8fcfbf3-b776-48f9-961e-efc2ce42895b"
      },
      "execution_count": 25,
      "outputs": [
        {
          "output_type": "execute_result",
          "data": {
            "text/plain": [
              "np.float64(0.9999999999999999)"
            ]
          },
          "metadata": {},
          "execution_count": 25
        }
      ]
    },
    {
      "cell_type": "code",
      "source": [
        "eigenValues, eigenVectors = np.linalg.eig(S.T)"
      ],
      "metadata": {
        "id": "Oy950EL1JlCK"
      },
      "execution_count": 26,
      "outputs": []
    },
    {
      "cell_type": "code",
      "source": [
        "eigenValues"
      ],
      "metadata": {
        "colab": {
          "base_uri": "https://localhost:8080/"
        },
        "id": "h5_JyWsyJ2g7",
        "outputId": "c5a4becd-93c4-4d48-badd-a31288b261cd"
      },
      "execution_count": 27,
      "outputs": [
        {
          "output_type": "execute_result",
          "data": {
            "text/plain": [
              "array([1.        , 0.24245466, 0.72108199, 0.67644122, 0.34790129,\n",
              "       0.34417302, 0.3866884 , 0.40333562, 0.41608572, 0.44238593,\n",
              "       0.63909999, 0.62556792, 0.58922572, 0.57452382, 0.48511399,\n",
              "       0.51329157, 0.52975372])"
            ]
          },
          "metadata": {},
          "execution_count": 27
        }
      ]
    },
    {
      "cell_type": "code",
      "source": [
        "eigenVectors[:,0]"
      ],
      "metadata": {
        "colab": {
          "base_uri": "https://localhost:8080/"
        },
        "id": "Lc9MfNufJ53y",
        "outputId": "084f1072-0358-458f-f508-3f6bd6292461"
      },
      "execution_count": 28,
      "outputs": [
        {
          "output_type": "execute_result",
          "data": {
            "text/plain": [
              "array([-0.24206557, -0.27051337, -0.2213806 , -0.28613638, -0.25065894,\n",
              "       -0.2499217 , -0.279622  , -0.21515455, -0.2226665 , -0.22745415,\n",
              "       -0.2059112 , -0.20959727, -0.23526242, -0.24203809, -0.23663025,\n",
              "       -0.2940483 , -0.20865607])"
            ]
          },
          "metadata": {},
          "execution_count": 28
        }
      ]
    },
    {
      "cell_type": "code",
      "source": [
        "eigenVectors[:,0].dot(S)"
      ],
      "metadata": {
        "colab": {
          "base_uri": "https://localhost:8080/"
        },
        "id": "3IrXB6psJ_2V",
        "outputId": "e2139961-1e12-4155-c9e5-06b1e80b45dc"
      },
      "execution_count": 29,
      "outputs": [
        {
          "output_type": "execute_result",
          "data": {
            "text/plain": [
              "array([-0.24206557, -0.27051337, -0.2213806 , -0.28613638, -0.25065894,\n",
              "       -0.2499217 , -0.279622  , -0.21515455, -0.2226665 , -0.22745415,\n",
              "       -0.2059112 , -0.20959727, -0.23526242, -0.24203809, -0.23663025,\n",
              "       -0.2940483 , -0.20865607])"
            ]
          },
          "metadata": {},
          "execution_count": 29
        }
      ]
    },
    {
      "cell_type": "code",
      "source": [
        "eigenVectors[:,0] / eigenVectors[:,0].sum()"
      ],
      "metadata": {
        "colab": {
          "base_uri": "https://localhost:8080/"
        },
        "id": "U9MfvzKhKOfr",
        "outputId": "937ecca5-b0dd-437c-9228-5144eb7ed58f"
      },
      "execution_count": 30,
      "outputs": [
        {
          "output_type": "execute_result",
          "data": {
            "text/plain": [
              "array([0.05907327, 0.06601563, 0.05402535, 0.06982824, 0.06117038,\n",
              "       0.06099047, 0.06823848, 0.05250595, 0.05433915, 0.05550753,\n",
              "       0.05025022, 0.05114976, 0.05741304, 0.05906657, 0.05774684,\n",
              "       0.07175905, 0.05092007])"
            ]
          },
          "metadata": {},
          "execution_count": 30
        }
      ]
    },
    {
      "cell_type": "code",
      "source": [
        "limiting_dist = np.ones(len(S)) / len(S)\n",
        "threshold = 1e-8\n",
        "delta = float('inf')\n",
        "iters = 0\n",
        "while delta > threshold:\n",
        "  iters += 1\n",
        "  p = limiting_dist.dot(S)\n",
        "  delta = np.abs(p - limiting_dist).sum()\n",
        "  limiting_dist = p\n",
        "print(iters)"
      ],
      "metadata": {
        "colab": {
          "base_uri": "https://localhost:8080/"
        },
        "id": "rSEAwxMVKfwb",
        "outputId": "04a044d2-f31f-426d-a3c3-e554af51bd22"
      },
      "execution_count": 31,
      "outputs": [
        {
          "output_type": "stream",
          "name": "stdout",
          "text": [
            "41\n"
          ]
        }
      ]
    },
    {
      "cell_type": "code",
      "source": [
        "limiting_dist"
      ],
      "metadata": {
        "colab": {
          "base_uri": "https://localhost:8080/"
        },
        "id": "eRx_wl2sLI4G",
        "outputId": "a470ca82-fd4d-440e-b850-6aa872fcda65"
      },
      "execution_count": 32,
      "outputs": [
        {
          "output_type": "execute_result",
          "data": {
            "text/plain": [
              "array([0.05907327, 0.06601563, 0.05402534, 0.06982824, 0.06117038,\n",
              "       0.06099047, 0.06823848, 0.05250595, 0.05433915, 0.05550753,\n",
              "       0.05025022, 0.05114977, 0.05741304, 0.05906657, 0.05774685,\n",
              "       0.07175905, 0.05092008])"
            ]
          },
          "metadata": {},
          "execution_count": 32
        }
      ]
    },
    {
      "cell_type": "code",
      "source": [
        "limiting_dist.sum()"
      ],
      "metadata": {
        "colab": {
          "base_uri": "https://localhost:8080/"
        },
        "id": "Eo0TUeNYLQ_o",
        "outputId": "5d919ae1-f9f6-4dcc-9c77-f700302e6e03"
      },
      "execution_count": 33,
      "outputs": [
        {
          "output_type": "execute_result",
          "data": {
            "text/plain": [
              "np.float64(0.9999999999999981)"
            ]
          },
          "metadata": {},
          "execution_count": 33
        }
      ]
    },
    {
      "cell_type": "code",
      "source": [
        "np.abs(eigenVectors[:,0]/eigenVectors[:,0].sum() - limiting_dist).sum()"
      ],
      "metadata": {
        "colab": {
          "base_uri": "https://localhost:8080/"
        },
        "id": "OJmS6-MTLcIN",
        "outputId": "1476614f-f5ed-46f4-96bc-f7f2b49d07d1"
      },
      "execution_count": 35,
      "outputs": [
        {
          "output_type": "execute_result",
          "data": {
            "text/plain": [
              "np.float64(1.9964739160494016e-08)"
            ]
          },
          "metadata": {},
          "execution_count": 35
        }
      ]
    },
    {
      "cell_type": "code",
      "source": [
        "scores = limiting_dist"
      ],
      "metadata": {
        "id": "7pJ0tKUfLv3y"
      },
      "execution_count": 36,
      "outputs": []
    },
    {
      "cell_type": "code",
      "source": [
        "sort_idx = np.argsort(-scores)"
      ],
      "metadata": {
        "id": "-CP-Z1KKL5xs"
      },
      "execution_count": 37,
      "outputs": []
    },
    {
      "cell_type": "code",
      "source": [
        "print('Generated summary:')\n",
        "for i in sort_idx[:5]:\n",
        "  print(wrap(\"%.2f: %s\" % (scores[i]*100, sents[i])))"
      ],
      "metadata": {
        "colab": {
          "base_uri": "https://localhost:8080/"
        },
        "id": "qX1TW6_HMBJg",
        "outputId": "d0b5607f-4cb9-45eb-f15a-038cc20f7f95"
      },
      "execution_count": 38,
      "outputs": [
        {
          "output_type": "stream",
          "name": "stdout",
          "text": [
            "Generated summary:\n",
            "7.18: \"The retail sales figures are very weak, but as Bank of England\n",
            "governor Mervyn King indicated last night, you don't really get an\n",
            "accurate impression of Christmas trading until about Easter,\" said Mr\n",
            "Shaw.\n",
            "6.98: A number of retailers have already reported poor figures for\n",
            "December.\n",
            "6.82: The ONS echoed an earlier caution from Bank of England governor\n",
            "Mervyn King not to read too much into the poor December figures.\n",
            "6.60: Retail sales dropped by 1% on the month in December, after a\n",
            "0.6% rise in November, the Office for National Statistics (ONS) said.\n",
            "6.12: Clothing retailers and non-specialist stores were the worst hit\n",
            "with only internet retailers showing any significant growth, according\n",
            "to the ONS.\n"
          ]
        }
      ]
    },
    {
      "cell_type": "code",
      "source": [
        "doc.iloc[0].split('\\n',1)[0]"
      ],
      "metadata": {
        "colab": {
          "base_uri": "https://localhost:8080/",
          "height": 36
        },
        "id": "OtyQZ-7xMHht",
        "outputId": "0780c88b-ae4f-4e53-be7e-a332d2000820"
      },
      "execution_count": 40,
      "outputs": [
        {
          "output_type": "execute_result",
          "data": {
            "text/plain": [
              "'Christmas sales worst since 1981'"
            ],
            "application/vnd.google.colaboratory.intrinsic+json": {
              "type": "string"
            }
          },
          "metadata": {},
          "execution_count": 40
        }
      ]
    },
    {
      "cell_type": "code",
      "source": [
        "def summarize(text, factor,sentences):\n",
        "  sents = nltk.sent_tokenize(text)\n",
        "  featurizer = TfidfVectorizer(stop_words=stopwords.words('english'), norm='l1')\n",
        "  x = featurizer.fit_transform(sents)\n",
        "  S = cosine_similarity(x)\n",
        "  S /= S.sum(axis=1, keepdims=True)\n",
        "  U = np.ones_like(S) / len(S)\n",
        "  S = (1 - factor) * S + factor * U\n",
        "  eigenValues, eigenVectors = np.linalg.eig(S.T)\n",
        "  limiting_dist = np.ones(len(S)) / len(S)\n",
        "  threshold = 1e-8\n",
        "  delta = float('inf')\n",
        "  iters = 0\n",
        "  while delta > threshold:\n",
        "    iters += 1\n",
        "    p = limiting_dist.dot(S)\n",
        "    delta = np.abs(p - limiting_dist).sum()\n",
        "    limiting_dist = p\n",
        "  scores = limiting_dist\n",
        "  sort_idx = np.argsort(-scores)\n",
        "  print('Generated summary:')\n",
        "  for i in sort_idx[:sentences]:\n",
        "    print(wrap(\"%.2f: %s\" % (scores[i]*100, sents[i])))\n"
      ],
      "metadata": {
        "id": "BV-GrIA1MgWk"
      },
      "execution_count": 44,
      "outputs": []
    },
    {
      "cell_type": "code",
      "source": [
        "a=\"The change in the commodity price is the key basis of market transactions and economic management, so it is necessary to make an accurate prediction of the dynamic commodity price. \\n However, due to the influences of various hidden factors, the commodity price usually varies frequently and fluctuates violently with obvious nonlinear characteristics. \\nTherefore, it is difficult to obtain accurate and robust prediction results only using the historical data of the price itself. \\nTo this end, this paper proposes a hybrid multi-factor price forecasting method based on factor selection and fusion with the CNN-LSTM and XGBoost network. Firstly, after we collect the data we calculated using some analytical indicator (RSA, CMF, EMA, ROC, DPO, …), secondly we apply DC framework and calculate DC parameter like aTmv, OSVOS and BM, and after extracting the features we preprocessing the tasks. \\nFinally, we start training by trying the algorithm and put hyper¬-parameter and data by testing and evaluation.\\nNow, after finishing evaluation we can conclude the advantage of using XGBoost is faster than CNN-LSTM in training with big dataset especially when we take a look at accuracy for all datasets, we have a higher and better accuracy with large number of transactions for XGBoost.\\nIn our future work, we will work the model with another algorithm with more analytical indicator to get perfect accuracy and more precisely.\\nSo, it is a promising multi-factor forecasting method and can be widely used in other fields. \\nConsidering that different exogenous variables have different influences on prices, how to effectively use this characteristic to obtain more accurate prediction results is a direction that will be worthy of more research in the future.\""
      ],
      "metadata": {
        "id": "z6UeBr43NubN"
      },
      "execution_count": 45,
      "outputs": []
    },
    {
      "cell_type": "code",
      "source": [
        "summarize(a,0.15,2)"
      ],
      "metadata": {
        "colab": {
          "base_uri": "https://localhost:8080/"
        },
        "id": "A0EMxy6yNy9z",
        "outputId": "cb02e6d0-2566-488f-8188-960f6fe7507e"
      },
      "execution_count": 47,
      "outputs": [
        {
          "output_type": "stream",
          "name": "stdout",
          "text": [
            "Generated summary:\n",
            "11.20: Therefore, it is difficult to obtain accurate and robust\n",
            "prediction results only using the historical data of the price itself.\n",
            "10.96: To this end, this paper proposes a hybrid multi-factor price\n",
            "forecasting method based on factor selection and fusion with the CNN-\n",
            "LSTM and XGBoost network.\n"
          ]
        }
      ]
    },
    {
      "cell_type": "code",
      "source": [],
      "metadata": {
        "id": "MBL-e0FzN2-V"
      },
      "execution_count": null,
      "outputs": []
    }
  ]
}