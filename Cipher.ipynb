{
  "nbformat": 4,
  "nbformat_minor": 0,
  "metadata": {
    "colab": {
      "provenance": [],
      "authorship_tag": "ABX9TyMiI6SQWXMT8CEXqAexywuk",
      "include_colab_link": true
    },
    "kernelspec": {
      "name": "python3",
      "display_name": "Python 3"
    },
    "language_info": {
      "name": "python"
    }
  },
  "cells": [
    {
      "cell_type": "markdown",
      "metadata": {
        "id": "view-in-github",
        "colab_type": "text"
      },
      "source": [
        "<a href=\"https://colab.research.google.com/github/jaafar19/NLP/blob/main/Cipher.ipynb\" target=\"_parent\"><img src=\"https://colab.research.google.com/assets/colab-badge.svg\" alt=\"Open In Colab\"/></a>"
      ]
    },
    {
      "cell_type": "code",
      "execution_count": 1,
      "metadata": {
        "id": "d1RGAkA9x2mP"
      },
      "outputs": [],
      "source": [
        "import numpy as np\n",
        "import matplotlib.pyplot as plt\n",
        "import string\n",
        "import random\n",
        "import re\n",
        "import requests\n",
        "import os\n",
        "import textwrap"
      ]
    },
    {
      "cell_type": "code",
      "source": [
        "letter1 = list(string.ascii_lowercase)\n",
        "letter2 = list(string.ascii_lowercase)\n",
        "true_mapping = {}\n",
        "random.shuffle(letter2)\n",
        "\n",
        "for k , v in zip(letter1 , letter2):\n",
        "    true_mapping[k] = v\n",
        "\n"
      ],
      "metadata": {
        "id": "kR17uX95yxHF"
      },
      "execution_count": 2,
      "outputs": []
    },
    {
      "cell_type": "code",
      "source": [
        "M = np.ones((26, 26)) # Changed: the shape is now passed as a tuple\n",
        "pi = np.zeros((26, 26))\n",
        "def update_transition (ch1, ch2):\n",
        "  i = ord(ch1) - 97\n",
        "  j = ord(ch2) - 97\n",
        "  M[i,j] += 1\n",
        "\n",
        "\n",
        "def update_pi(ch):\n",
        "  i = ord(ch) - 97\n",
        "  pi[i] += 1\n",
        "\n",
        "\n",
        "def get_word_prob(word):\n",
        "  # Only consider lowercase letters\n",
        "  word = ''.join(c for c in word if c.isalpha() and c.islower())\n",
        "  if not word:  # Handle empty words after filtering\n",
        "    return 0\n",
        "\n",
        "  i = ord(word[0]) - 97\n",
        "  if 0 <= i < 26:  # Check if index is within bounds\n",
        "    logp = np.log(pi[i])\n",
        "  else:\n",
        "    return 0  # Handle out-of-bounds index\n",
        "\n",
        "  for ch in word[1:]:\n",
        "    j = ord(ch) - 97\n",
        "    if 0 <= i < 26 and 0 <= j < 26:  # Check if indices are within bounds\n",
        "      logp += np.log(M[i, j])\n",
        "      i = j\n",
        "    else:\n",
        "      return 0  # Handle out-of-bounds index\n",
        "\n",
        "  return logp.sum() if isinstance(logp, np.ndarray) else logp\n",
        "\n",
        "\n",
        "def get_sequence_prob(words):\n",
        "  if type(words) == str:\n",
        "    words = words.split()\n",
        "  logp = 0\n",
        "  for word in words:\n",
        "    logp += get_word_prob(word)\n",
        "  return logp.sum() if isinstance(logp, np.ndarray) else logp"
      ],
      "metadata": {
        "id": "JNnFvCjr0Ej3"
      },
      "execution_count": 3,
      "outputs": []
    },
    {
      "cell_type": "code",
      "source": [
        "if not os.path.exists('moby_dick.txt'):\n",
        "  print('Downloading moby dick...')\n",
        "  r = requests.get('https://lazyprogrammer.me/course_files/moby_dick.txt')\n",
        "  with open('moby_dick.txt', 'w') as f:\n",
        "    f.write(r.content.decode())"
      ],
      "metadata": {
        "id": "dSdK8BXl2dhd"
      },
      "execution_count": 4,
      "outputs": []
    },
    {
      "cell_type": "code",
      "source": [
        "regex = re.compile('[^a-zA-Z]')\n",
        "for line in open('moby_dick.txt'):\n",
        "  line = line.rstrip()\n",
        "  if line:\n",
        "    line = regex.sub(' ', line)\n",
        "    tokens = line.lower().split()\n",
        "\n",
        "    for token in tokens:\n",
        "      ch0 = token[0]\n",
        "      update_pi(ch0)\n",
        "      for ch1 in token[1:]:\n",
        "        update_transition(ch0, ch1)\n",
        "        ch0 = ch1\n",
        "\n",
        "\n",
        "pi /= pi.sum()\n",
        "M /= M.sum(axis=1, keepdims=True)\n",
        ""
      ],
      "metadata": {
        "id": "4RPHE8X83IGA"
      },
      "execution_count": 5,
      "outputs": []
    },
    {
      "cell_type": "code",
      "source": [
        "original_message = \"At three o’clock precisely I was at Baker Street, but Holmes had not yet returned. The landlady informed me that he had left the house shortly after eight o’clock in the morning. I sat down beside the fire, however, with the intention of awaiting him, however long he might be. I was already deeply interested in his inquiry, for, though it was surrounded by none of the grim and strange features which were associated with the two crimes which I have already recorded, still, the nature of the case and the exalted station of his client gave it a character of its own. Indeed, apart from the nature of the investigation which my friend had on hand, there was something in his masterly grasp of a situation, and his keen, incisive reasoning, which made it a pleasure to me to study his system of work, and to follow the quick, subtle methods by which he disentangled the most inextricable mysteries. So accustomed was I to his invariable success that the very possibility of his failing had ceased to enter into my head.\"\n"
      ],
      "metadata": {
        "id": "E5KCOM-W4syY"
      },
      "execution_count": 6,
      "outputs": []
    },
    {
      "cell_type": "code",
      "source": [
        "def encode_message(msg):\n",
        "  msg = msg.lower()\n",
        "  msg = regex.sub(' ', msg)\n",
        "  coded_msg = []\n",
        "  for ch in msg:\n",
        "    coded_ch = ch\n",
        "    if ch in true_mapping:\n",
        "      coded_ch = true_mapping[ch]\n",
        "    coded_msg.append(coded_ch)\n",
        "  return ''.join(coded_msg)\n",
        "\n",
        "\n",
        "encoded_message = encode_message(original_message)\n",
        "print(\"encoded message:\")\n",
        "print(textwrap.fill(encoded_message))"
      ],
      "metadata": {
        "colab": {
          "base_uri": "https://localhost:8080/"
        },
        "id": "nPoYZ-Pm4tqh",
        "outputId": "6b3058c4-a89f-4265-baeb-0433a60c70e9"
      },
      "execution_count": 7,
      "outputs": [
        {
          "output_type": "stream",
          "name": "stdout",
          "text": [
            "encoded message:\n",
            "lf fpszz x qkxqu yszqvozkr v elo lf gluzs ofszzf  gtf pxkazo pld hxf\n",
            "rzf szftshzd  fpz klhdkldr vhnxsazd az fplf pz pld kznf fpz pxtoz\n",
            "opxsfkr lnfzs zvmpf x qkxqu vh fpz axshvhm  v olf dxeh gzovdz fpz nvsz\n",
            "pxezjzs  evfp fpz vhfzhfvxh xn lelvfvhm pva  pxezjzs kxhm pz avmpf gz\n",
            "v elo lkszldr dzzykr vhfzszofzd vh pvo vhwtvsr  nxs  fpxtmp vf elo\n",
            "otssxthdzd gr hxhz xn fpz msva lhd ofslhmz nzlftszo epvqp ezsz\n",
            "looxqvlfzd evfp fpz fex qsvazo epvqp v pljz lkszldr szqxsdzd  ofvkk\n",
            "fpz hlftsz xn fpz qloz lhd fpz zclkfzd oflfvxh xn pvo qkvzhf mljz vf l\n",
            "qplslqfzs xn vfo xeh  vhdzzd  lylsf nsxa fpz hlftsz xn fpz\n",
            "vhjzofvmlfvxh epvqp ar nsvzhd pld xh plhd  fpzsz elo oxazfpvhm vh pvo\n",
            "alofzskr msloy xn l ovftlfvxh  lhd pvo uzzh  vhqvovjz szloxhvhm  epvqp\n",
            "aldz vf l ykzlotsz fx az fx oftdr pvo orofza xn exsu  lhd fx nxkkxe\n",
            "fpz wtvqu  otgfkz azfpxdo gr epvqp pz dvozhflhmkzd fpz axof\n",
            "vhzcfsvqlgkz arofzsvzo  ox lqqtofxazd elo v fx pvo vhjlsvlgkz otqqzoo\n",
            "fplf fpz jzsr yxoovgvkvfr xn pvo nlvkvhm pld qzlozd fx zhfzs vhfx ar\n",
            "pzld\n"
          ]
        }
      ]
    },
    {
      "cell_type": "code",
      "source": [
        "def decode_message(msg, word_map):\n",
        "  decoded_msg = []\n",
        "  for ch in msg:\n",
        "    decoded_ch = ch\n",
        "    if ch in word_map:\n",
        "      decoded_ch = word_map[ch]\n",
        "    decoded_msg.append(decoded_ch)\n",
        "\n",
        "    return ''.join(decoded_msg)"
      ],
      "metadata": {
        "id": "bNz1bW765T5c"
      },
      "execution_count": 8,
      "outputs": []
    },
    {
      "cell_type": "code",
      "source": [
        "dna_pool = []\n",
        "for _ in range(20):\n",
        "  dna = list (string.ascii_lowercase)\n",
        "  random.shuffle(dna)\n",
        "  dna_pool.append(dna)"
      ],
      "metadata": {
        "id": "6CWq4hg67TYA"
      },
      "execution_count": 9,
      "outputs": []
    },
    {
      "cell_type": "code",
      "source": [
        "def envolve_offspring(dna_pool , nchildren):\n",
        "  offspring = []\n",
        "  for dna in dna_pool:\n",
        "    for _ in range(nchildren):\n",
        "      copy = dna.copy()\n",
        "      j = np.random.randint(len(copy))\n",
        "      k = np.random.randint(len(copy))\n",
        "\n",
        "      tmp = copy [j]\n",
        "      copy[j] = copy [k]\n",
        "      copy[k] = tmp\n",
        "\n",
        "      offspring.append(copy)\n",
        "  return offspring + dna_pool\n"
      ],
      "metadata": {
        "id": "rWeue9rV76jB"
      },
      "execution_count": 10,
      "outputs": []
    },
    {
      "cell_type": "code",
      "source": [
        "num_iter = 1000\n",
        "scores = np.zeros(num_iter) # scores is a numpy array here\n",
        "best_dna = None\n",
        "best_map = None\n",
        "best_score = float('-inf')\n",
        "for i in range(num_iter):\n",
        "  if i>0:\n",
        "    dna_pool = envolve_offspring(dna_pool , 3)\n",
        "\n",
        "  dna2score={}\n",
        "\n",
        "  for dna in dna_pool:\n",
        "    current_map ={}\n",
        "    for k , v in zip(letter1 , dna):\n",
        "      current_map[k] = v\n",
        "\n",
        "    decoded_message = decode_message(encoded_message , current_map)\n",
        "    score = get_sequence_prob(decoded_message)\n",
        "\n",
        "    dna2score[''.join(dna)] = score\n",
        "\n",
        "\n",
        "    if score > best_score:\n",
        "      best_dna = dna\n",
        "      best_map = current_map\n",
        "      best_score = score\n",
        "\n",
        "#ymkn fi ghalat hon\n",
        "\n",
        "  scores[i] = np.mean(list(dna2score.values()))\n",
        "\n",
        "  sorted_dna = sorted(dna2score.items(), key=lambda x: x[1], reverse=True)\n",
        "  dna_pool = [list(k) for k, v in sorted_dna[:5]]\n",
        "\n",
        "\n",
        "  if i % 200 == 0:\n",
        "    print(\"iter:\", i, \"score:\", scores[i], \"best so far:\", best_score)\n",
        ""
      ],
      "metadata": {
        "colab": {
          "base_uri": "https://localhost:8080/"
        },
        "id": "tLOk7uzG9VxB",
        "outputId": "530e1e32-d846-4da0-ec42-2e6e2c79bcb5"
      },
      "execution_count": 11,
      "outputs": [
        {
          "output_type": "stream",
          "name": "stdout",
          "text": [
            "iter: 0 score: -191.43473895081803 best so far: -131.67955791163715\n",
            "iter: 200 score: -135.12047399428906 best so far: -131.67955791163715\n",
            "iter: 400 score: -135.04813477376757 best so far: -131.67955791163715\n",
            "iter: 600 score: -134.27382836546698 best so far: -131.67955791163715\n",
            "iter: 800 score: -132.89865546776232 best so far: -131.67955791163715\n"
          ]
        }
      ]
    },
    {
      "cell_type": "code",
      "source": [
        "decoded_msg = decode_message(encoded_message , best_map) # Changed: Assign the result to a new variable decoded_msg\n",
        "\n",
        "print(\"LL of decode message:\", get_sequence_prob(decoded_msg)) # Changed: Use the new variable decoded_msg here\n",
        "print(\"LL of original message:\", get_sequence_prob(original_message.lower()))\n",
        "\n",
        "for true, v in true_mapping.items():\n",
        "  pred = best_map[v]\n",
        "  if true != pred:\n",
        "    print(f\"true: {true} pred: {pred}\")"
      ],
      "metadata": {
        "colab": {
          "base_uri": "https://localhost:8080/"
        },
        "id": "HHdTy99__w-K",
        "outputId": "a35cb47a-397a-42e1-d9ee-0f4ae7cca1ed"
      },
      "execution_count": 14,
      "outputs": [
        {
          "output_type": "stream",
          "name": "stdout",
          "text": [
            "LL of decode message: -131.67955791163715\n",
            "LL of original message: -65368.485408957225\n",
            "true: a pred: t\n",
            "true: b pred: m\n",
            "true: c pred: b\n",
            "true: d pred: u\n",
            "true: e pred: g\n",
            "true: f pred: e\n",
            "true: g pred: d\n",
            "true: h pred: o\n",
            "true: i pred: z\n",
            "true: j pred: x\n",
            "true: k pred: j\n",
            "true: l pred: w\n",
            "true: m pred: i\n",
            "true: n pred: h\n",
            "true: o pred: f\n",
            "true: q pred: v\n",
            "true: r pred: c\n",
            "true: s pred: l\n",
            "true: t pred: s\n",
            "true: u pred: y\n",
            "true: v pred: q\n",
            "true: w pred: n\n",
            "true: x pred: a\n",
            "true: y pred: k\n",
            "true: z pred: r\n"
          ]
        }
      ]
    },
    {
      "cell_type": "code",
      "source": [
        "print(\"Decoded message:\", textwrap.fill(decoded_message))\n",
        "\n",
        "print(\"original message:\", original_message)"
      ],
      "metadata": {
        "colab": {
          "base_uri": "https://localhost:8080/"
        },
        "id": "pJVG9agyCIjm",
        "outputId": "9a384566-9573-4e24-cbca-865388a1125c"
      },
      "execution_count": 13,
      "outputs": [
        {
          "output_type": "stream",
          "name": "stdout",
          "text": [
            "Decoded message: t\n",
            "original message: At three o’clock precisely I was at Baker Street, but Holmes had not yet returned. The landlady informed me that he had left the house shortly after eight o’clock in the morning. I sat down beside the fire, however, with the intention of awaiting him, however long he might be. I was already deeply interested in his inquiry, for, though it was surrounded by none of the grim and strange features which were associated with the two crimes which I have already recorded, still, the nature of the case and the exalted station of his client gave it a character of its own. Indeed, apart from the nature of the investigation which my friend had on hand, there was something in his masterly grasp of a situation, and his keen, incisive reasoning, which made it a pleasure to me to study his system of work, and to follow the quick, subtle methods by which he disentangled the most inextricable mysteries. So accustomed was I to his invariable success that the very possibility of his failing had ceased to enter into my head.\n"
          ]
        }
      ]
    },
    {
      "cell_type": "code",
      "source": [],
      "metadata": {
        "id": "ng9Rp5U9Drlu"
      },
      "execution_count": 13,
      "outputs": []
    }
  ]
}