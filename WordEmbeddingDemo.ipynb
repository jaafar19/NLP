{
  "nbformat": 4,
  "nbformat_minor": 0,
  "metadata": {
    "colab": {
      "provenance": [],
      "authorship_tag": "ABX9TyN+xYhuXY77r9RlktCUc8QT",
      "include_colab_link": true
    },
    "kernelspec": {
      "name": "python3",
      "display_name": "Python 3"
    },
    "language_info": {
      "name": "python"
    }
  },
  "cells": [
    {
      "cell_type": "markdown",
      "metadata": {
        "id": "view-in-github",
        "colab_type": "text"
      },
      "source": [
        "<a href=\"https://colab.research.google.com/github/jaafar19/NLP/blob/main/WordEmbeddingDemo.ipynb\" target=\"_parent\"><img src=\"https://colab.research.google.com/assets/colab-badge.svg\" alt=\"Open In Colab\"/></a>"
      ]
    },
    {
      "cell_type": "code",
      "execution_count": 2,
      "metadata": {
        "id": "7gddsatpnf3J"
      },
      "outputs": [],
      "source": [
        "import gdown"
      ]
    },
    {
      "cell_type": "code",
      "source": [
        "\n",
        "import gdown\n",
        "\n",
        "file_id = \"1jAXR6iTiGpr8oYG8iXAHJfs-e86CEmao\"\n",
        "gdown.download(f\"https://drive.google.com/uc?id={file_id}\", quiet=False)"
      ],
      "metadata": {
        "colab": {
          "base_uri": "https://localhost:8080/",
          "height": 142
        },
        "id": "GWILh7aunmUc",
        "outputId": "1e7fb570-04df-4c4d-8009-addb4697d5de"
      },
      "execution_count": 3,
      "outputs": [
        {
          "output_type": "stream",
          "name": "stderr",
          "text": [
            "Downloading...\n",
            "From (original): https://drive.google.com/uc?id=1jAXR6iTiGpr8oYG8iXAHJfs-e86CEmao\n",
            "From (redirected): https://drive.google.com/uc?id=1jAXR6iTiGpr8oYG8iXAHJfs-e86CEmao&confirm=t&uuid=b4fc7767-6d0f-4d43-a4af-d7909cba384e\n",
            "To: /content/GoogleNews-vectors-negative300.bin.gz\n",
            "100%|██████████| 1.65G/1.65G [00:29<00:00, 56.4MB/s]\n"
          ]
        },
        {
          "output_type": "execute_result",
          "data": {
            "text/plain": [
              "'GoogleNews-vectors-negative300.bin.gz'"
            ],
            "application/vnd.google.colaboratory.intrinsic+json": {
              "type": "string"
            }
          },
          "metadata": {},
          "execution_count": 3
        }
      ]
    },
    {
      "cell_type": "code",
      "source": [
        "!gunzip GoogleNews-vectors-negative300.bin.gz"
      ],
      "metadata": {
        "colab": {
          "base_uri": "https://localhost:8080/"
        },
        "id": "lV8EtGe--nQk",
        "outputId": "1ee08464-2320-4148-aae2-009084de78b4"
      },
      "execution_count": 4,
      "outputs": [
        {
          "output_type": "stream",
          "name": "stdout",
          "text": [
            "gzip: GoogleNews-vectors-negative300.bin already exists; do you wish to overwrite (y or n)? ^C\n"
          ]
        }
      ]
    },
    {
      "cell_type": "code",
      "source": [
        "from gensim.models import KeyedVectors"
      ],
      "metadata": {
        "id": "hN7ouVu1_NE8"
      },
      "execution_count": 5,
      "outputs": []
    },
    {
      "cell_type": "code",
      "source": [
        "word_vectors = KeyedVectors.load_word2vec_format('GoogleNews-vectors-negative300.bin', binary=True)"
      ],
      "metadata": {
        "id": "HwIElyRL_aJF"
      },
      "execution_count": 6,
      "outputs": []
    },
    {
      "cell_type": "code",
      "source": [
        "def find_analogies(w1, w2, w3):\n",
        "    r = word_vectors.most_similar(positive=[w1, w3], negative=[w2])\n",
        "    print (\"%s - %s = %s - %s\" % (w1, w2, r[0][0], w3))"
      ],
      "metadata": {
        "id": "kYmE0FA-_pwn"
      },
      "execution_count": 7,
      "outputs": []
    },
    {
      "cell_type": "code",
      "source": [
        "find_analogies('king', 'man', 'woman')"
      ],
      "metadata": {
        "colab": {
          "base_uri": "https://localhost:8080/"
        },
        "id": "uUiy2iDSADbL",
        "outputId": "b2a4bac1-dc72-4f59-d997-40cab13bc2c8"
      },
      "execution_count": 8,
      "outputs": [
        {
          "output_type": "stream",
          "name": "stdout",
          "text": [
            "king - man = queen - woman\n"
          ]
        }
      ]
    },
    {
      "cell_type": "code",
      "source": [
        "find_analogies('france', 'paris', 'london')"
      ],
      "metadata": {
        "colab": {
          "base_uri": "https://localhost:8080/"
        },
        "id": "aMn9bEwZAItb",
        "outputId": "1e6a0078-ffdb-4eee-b70a-fcc9cf387882"
      },
      "execution_count": 9,
      "outputs": [
        {
          "output_type": "stream",
          "name": "stdout",
          "text": [
            "france - paris = england - london\n"
          ]
        }
      ]
    },
    {
      "cell_type": "code",
      "source": [
        "find_analogies('france', 'paris', 'rome')"
      ],
      "metadata": {
        "colab": {
          "base_uri": "https://localhost:8080/"
        },
        "id": "EYYYXs4gAaG8",
        "outputId": "1c797297-c851-43f7-9863-51d3d550cb9b"
      },
      "execution_count": 10,
      "outputs": [
        {
          "output_type": "stream",
          "name": "stdout",
          "text": [
            "france - paris = italy - rome\n"
          ]
        }
      ]
    },
    {
      "cell_type": "code",
      "source": [
        "find_analogies('paris', 'france', 'italy')"
      ],
      "metadata": {
        "colab": {
          "base_uri": "https://localhost:8080/"
        },
        "id": "ze5S_zdgAoyW",
        "outputId": "e3bd8c8e-fa5f-42da-c35e-210297108021"
      },
      "execution_count": 11,
      "outputs": [
        {
          "output_type": "stream",
          "name": "stdout",
          "text": [
            "paris - france = lohan - italy\n"
          ]
        }
      ]
    },
    {
      "cell_type": "code",
      "source": [
        "find_analogies('india', 'delhi', 'japan')"
      ],
      "metadata": {
        "colab": {
          "base_uri": "https://localhost:8080/"
        },
        "id": "f-dERNUGAqe7",
        "outputId": "2f6323e6-ce50-4d36-f48d-df14c09c71fa"
      },
      "execution_count": 12,
      "outputs": [
        {
          "output_type": "stream",
          "name": "stdout",
          "text": [
            "india - delhi = japanese - japan\n"
          ]
        }
      ]
    },
    {
      "cell_type": "code",
      "source": [
        "find_analogies('japan', 'japanese', 'chinese')"
      ],
      "metadata": {
        "colab": {
          "base_uri": "https://localhost:8080/"
        },
        "id": "9Us1uownAzV_",
        "outputId": "717cc597-c3d4-4302-b0ea-24f310d80e3e"
      },
      "execution_count": 13,
      "outputs": [
        {
          "output_type": "stream",
          "name": "stdout",
          "text": [
            "japan - japanese = tibet - chinese\n"
          ]
        }
      ]
    },
    {
      "cell_type": "code",
      "source": [
        "find_analogies('japan', 'japanese', 'italian')"
      ],
      "metadata": {
        "colab": {
          "base_uri": "https://localhost:8080/"
        },
        "id": "KozFr3QcA0qY",
        "outputId": "f7e3e971-ec9f-4398-c31a-74b39f2e068c"
      },
      "execution_count": 14,
      "outputs": [
        {
          "output_type": "stream",
          "name": "stdout",
          "text": [
            "japan - japanese = italy - italian\n"
          ]
        }
      ]
    },
    {
      "cell_type": "code",
      "source": [
        "find_analogies('japan', 'japanese', 'australian')"
      ],
      "metadata": {
        "colab": {
          "base_uri": "https://localhost:8080/"
        },
        "id": "pGSVmRrWA1aL",
        "outputId": "2ad86d03-d4b2-4810-c801-b2157ef2c6cf"
      },
      "execution_count": 15,
      "outputs": [
        {
          "output_type": "stream",
          "name": "stdout",
          "text": [
            "japan - japanese = queensland - australian\n"
          ]
        }
      ]
    },
    {
      "cell_type": "code",
      "source": [
        "def nearest_neighbors(w):\n",
        "    r = word_vectors.most_similar(positive=[w])\n",
        "    print (\"neighbors of: %s\" % w)\n",
        "    for word, score in r:\n",
        "        print (\"\\t%s\" % word)\n"
      ],
      "metadata": {
        "id": "8U-qv1zdA3hc"
      },
      "execution_count": 16,
      "outputs": []
    },
    {
      "cell_type": "code",
      "source": [
        "nearest_neighbors('king')"
      ],
      "metadata": {
        "colab": {
          "base_uri": "https://localhost:8080/"
        },
        "id": "-R611I-eCQ0y",
        "outputId": "e7263d8f-5417-4700-fe02-dc58d43c63fd"
      },
      "execution_count": 17,
      "outputs": [
        {
          "output_type": "stream",
          "name": "stdout",
          "text": [
            "neighbors of: king\n",
            "\tkings\n",
            "\tqueen\n",
            "\tmonarch\n",
            "\tcrown_prince\n",
            "\tprince\n",
            "\tsultan\n",
            "\truler\n",
            "\tprinces\n",
            "\tPrince_Paras\n",
            "\tthrone\n"
          ]
        }
      ]
    },
    {
      "cell_type": "code",
      "source": [
        "nearest_neighbors('france')"
      ],
      "metadata": {
        "colab": {
          "base_uri": "https://localhost:8080/"
        },
        "id": "ut6ldJSECTy6",
        "outputId": "b804b6b3-c0f0-4a78-ad00-2d3b9e7b2684"
      },
      "execution_count": 18,
      "outputs": [
        {
          "output_type": "stream",
          "name": "stdout",
          "text": [
            "neighbors of: france\n",
            "\tspain\n",
            "\tfrench\n",
            "\tgermany\n",
            "\teurope\n",
            "\titaly\n",
            "\tengland\n",
            "\teuropean\n",
            "\tbelgium\n",
            "\tusa\n",
            "\tserbia\n"
          ]
        }
      ]
    },
    {
      "cell_type": "code",
      "source": [
        "nearest_neighbors('japan')"
      ],
      "metadata": {
        "colab": {
          "base_uri": "https://localhost:8080/"
        },
        "id": "zjtR3XorCaiX",
        "outputId": "73209031-9fba-40f5-8ffb-c6ee0b92d1b6"
      },
      "execution_count": 19,
      "outputs": [
        {
          "output_type": "stream",
          "name": "stdout",
          "text": [
            "neighbors of: japan\n",
            "\tjapanese\n",
            "\ttokyo\n",
            "\tamerica\n",
            "\teurope\n",
            "\tgermany\n",
            "\tchinese\n",
            "\tindia\n",
            "\thawaii\n",
            "\tusa\n",
            "\tkorea\n"
          ]
        }
      ]
    },
    {
      "cell_type": "code",
      "source": [
        "nearest_neighbors(\"day\")"
      ],
      "metadata": {
        "colab": {
          "base_uri": "https://localhost:8080/"
        },
        "id": "-1drdTp2Cd8I",
        "outputId": "90cd4b82-0caf-46f7-fc78-87b071d7a267"
      },
      "execution_count": 20,
      "outputs": [
        {
          "output_type": "stream",
          "name": "stdout",
          "text": [
            "neighbors of: day\n",
            "\tweek\n",
            "\tdays\n",
            "\tmorning\n",
            "\tmonth\n",
            "\thours\n",
            "\tafternoon\n",
            "\thour\n",
            "\tweekend\n",
            "\tevening\n",
            "\ttime\n"
          ]
        }
      ]
    },
    {
      "cell_type": "code",
      "source": [
        "nearest_neighbors(\"Artificial\")"
      ],
      "metadata": {
        "colab": {
          "base_uri": "https://localhost:8080/"
        },
        "id": "fQrEAIHSCmxJ",
        "outputId": "47e22f7b-a329-49ad-fc1a-7c5c27016ff9"
      },
      "execution_count": 21,
      "outputs": [
        {
          "output_type": "stream",
          "name": "stdout",
          "text": [
            "neighbors of: Artificial\n",
            "\tartificial\n",
            "\tartifical\n",
            "\tArtifical\n",
            "\tPlastic\n",
            "\tSynthetic\n",
            "\tBioengineered\n",
            "\tNanoscopic\n",
            "\tRepair_Damaged\n",
            "\tBioluminescent\n",
            "\tBiocompatible\n"
          ]
        }
      ]
    },
    {
      "cell_type": "code",
      "source": [
        "nearest_neighbors(\"Intelligence\")"
      ],
      "metadata": {
        "colab": {
          "base_uri": "https://localhost:8080/"
        },
        "id": "6alvU9ZpCuqI",
        "outputId": "b8a0a7cc-68f1-438d-9537-e4fbde4185b3"
      },
      "execution_count": 22,
      "outputs": [
        {
          "output_type": "stream",
          "name": "stdout",
          "text": [
            "neighbors of: Intelligence\n",
            "\tintelligence\n",
            "\tCMR_TNS_Media\n",
            "\tIntelligence_Agency\n",
            "\tIntelligence_directorate\n",
            "\tMinister_Ali_Fallahian\n",
            "\tInteligence\n",
            "\tMilitary_Intelligence\n",
            "\tAFP_ISAFP\n",
            "\tMinister_Ali_Yunessi\n",
            "\tNational_Intelligence_DNI\n"
          ]
        }
      ]
    },
    {
      "cell_type": "code",
      "source": [
        "!wget http://nlp.stanford.edu/data/glove.6B.zip\n",
        "!unzip glove.6B.zip"
      ],
      "metadata": {
        "colab": {
          "base_uri": "https://localhost:8080/"
        },
        "id": "kZWmIrGDC2Rw",
        "outputId": "f1468cad-3f79-421f-9553-642be0b08d4c"
      },
      "execution_count": 23,
      "outputs": [
        {
          "output_type": "stream",
          "name": "stdout",
          "text": [
            "--2025-03-30 12:57:09--  http://nlp.stanford.edu/data/glove.6B.zip\n",
            "Resolving nlp.stanford.edu (nlp.stanford.edu)... 171.64.67.140\n",
            "Connecting to nlp.stanford.edu (nlp.stanford.edu)|171.64.67.140|:80... connected.\n",
            "HTTP request sent, awaiting response... 302 Found\n",
            "Location: https://nlp.stanford.edu/data/glove.6B.zip [following]\n",
            "--2025-03-30 12:57:09--  https://nlp.stanford.edu/data/glove.6B.zip\n",
            "Connecting to nlp.stanford.edu (nlp.stanford.edu)|171.64.67.140|:443... connected.\n",
            "HTTP request sent, awaiting response... 301 Moved Permanently\n",
            "Location: https://downloads.cs.stanford.edu/nlp/data/glove.6B.zip [following]\n",
            "--2025-03-30 12:57:09--  https://downloads.cs.stanford.edu/nlp/data/glove.6B.zip\n",
            "Resolving downloads.cs.stanford.edu (downloads.cs.stanford.edu)... 171.64.64.22\n",
            "Connecting to downloads.cs.stanford.edu (downloads.cs.stanford.edu)|171.64.64.22|:443... connected.\n",
            "HTTP request sent, awaiting response... 200 OK\n",
            "Length: 862182613 (822M) [application/zip]\n",
            "Saving to: ‘glove.6B.zip.1’\n",
            "\n",
            "glove.6B.zip.1        5%[>                   ]  41.83M  5.06MB/s    eta 80s    ^C\n",
            "Archive:  glove.6B.zip\n",
            "replace glove.6B.50d.txt? [y]es, [n]o, [A]ll, [N]one, [r]ename: "
          ]
        }
      ]
    },
    {
      "cell_type": "code",
      "source": [
        "import numpy as np\n",
        "\n",
        "def load_glove_embeddings(file_path):\n",
        "    embeddings = {}\n",
        "    with open(file_path, \"r\", encoding=\"utf-8\") as f:\n",
        "        for line in f:\n",
        "            values = line.split()\n",
        "            word = values[0]  # First value is the word\n",
        "            vector = np.asarray(values[1:], dtype=\"float32\")  # Rest are vector values\n",
        "            embeddings[word] = vector\n",
        "    return embeddings\n",
        "\n"
      ],
      "metadata": {
        "id": "ScnM2QwKDKjK"
      },
      "execution_count": 24,
      "outputs": []
    },
    {
      "cell_type": "code",
      "source": [
        "glove_vectors_50 = load_glove_embeddings(\"glove.6B.50d.txt\")\n",
        "glove_vectors_100 = load_glove_embeddings(\"glove.6B.100d.txt\")\n",
        "glove_vectors_200 = load_glove_embeddings(\"glove.6B.200d.txt\")\n",
        "glove_vectors_300 = load_glove_embeddings(\"glove.6B.300d.txt\")"
      ],
      "metadata": {
        "id": "z6Jo4PKUEoWR"
      },
      "execution_count": 25,
      "outputs": []
    },
    {
      "cell_type": "code",
      "source": [],
      "metadata": {
        "id": "bbX_XBrUFHhD"
      },
      "execution_count": 25,
      "outputs": []
    },
    {
      "cell_type": "code",
      "source": [
        "from numpy.linalg import norm\n",
        "\n",
        "# Function to compute cosine similarity\n",
        "def cosine_similarity(vec1, vec2):\n",
        "    return np.dot(vec1, vec2) / (norm(vec1) * norm(vec2))\n",
        "\n",
        "# Function to find the closest word in the embedding space\n",
        "def find_analogy(word1, word2, word3, glove_vectors):\n",
        "    if word1 not in glove_vectors or word2 not in glove_vectors or word3 not in glove_vectors:\n",
        "        return \"One or more words not in GloVe vocabulary!\"\n",
        "\n",
        "    # Compute analogy vector: word1 - word2 + word3\n",
        "    analogy_vector = glove_vectors[word1] - glove_vectors[word2] + glove_vectors[word3]\n",
        "\n",
        "    # Find the most similar word (excluding input words)\n",
        "    best_match = None\n",
        "    max_similarity = -1\n",
        "\n",
        "    for word, vector in glove_vectors.items():\n",
        "        if word in [word1, word2, word3]:  # Skip input words\n",
        "            continue\n",
        "        similarity = cosine_similarity(analogy_vector, vector)\n",
        "        if similarity > max_similarity:\n",
        "            max_similarity = similarity\n",
        "            best_match = word\n",
        "\n",
        "    return best_match\n",
        "\n",
        "# Example usage\n",
        "# Choose the desired glove_vectors dictionary, for instance, the 300-dimensional embeddings\n",
        "result = find_analogy(\"king\", \"man\", \"woman\", glove_vectors_300)\n",
        "print(\"king - man + woman = \", result)"
      ],
      "metadata": {
        "colab": {
          "base_uri": "https://localhost:8080/"
        },
        "id": "Jk5QwZYSFxHt",
        "outputId": "d3107940-019b-4892-8ba9-2801d3848b70"
      },
      "execution_count": 27,
      "outputs": [
        {
          "output_type": "stream",
          "name": "stdout",
          "text": [
            "king - man + woman =  queen\n"
          ]
        }
      ]
    },
    {
      "cell_type": "code",
      "source": [
        "result = find_analogy(\"king\", \"man\", \"president\", glove_vectors_300)\n",
        "print(\"king - man + president = \", result)"
      ],
      "metadata": {
        "colab": {
          "base_uri": "https://localhost:8080/"
        },
        "id": "Tkp8E9zDG1Mx",
        "outputId": "300ff0b0-8030-47c0-db70-7f1b5d92bdb2"
      },
      "execution_count": 31,
      "outputs": [
        {
          "output_type": "stream",
          "name": "stdout",
          "text": [
            "king - man + president =  presidents\n"
          ]
        }
      ]
    },
    {
      "cell_type": "code",
      "source": [
        "from numpy.linalg import norm\n",
        "\n",
        "# Function to compute cosine similarity\n",
        "def cosine_similarity(vec1, vec2):\n",
        "    return np.dot(vec1, vec2) / (norm(vec1) * norm(vec2))\n",
        "\n",
        "# Function to find nearest neighbors\n",
        "def find_nearest_neighbors(word, glove_vectors, top_n=5):\n",
        "    if word not in glove_vectors:\n",
        "        return \"Word not in GloVe vocabulary!\"\n",
        "\n",
        "    word_vector = glove_vectors[word]\n",
        "    similarities = {}\n",
        "\n",
        "    # Compute similarity with all words\n",
        "    for other_word, other_vector in glove_vectors.items():\n",
        "        if other_word == word:\n",
        "            continue  # Skip the same word\n",
        "        similarity = cosine_similarity(word_vector, other_vector)\n",
        "        similarities[other_word] = similarity\n",
        "\n",
        "    # Sort by similarity and get top N words\n",
        "    nearest_neighbors = sorted(similarities, key=similarities.get, reverse=True)[:top_n]\n",
        "    return nearest_neighbors\n",
        "\n",
        "# Example: Find words similar to \"king\"\n",
        "print(find_nearest_neighbors(\"king\", glove_vectors_300, top_n=15))"
      ],
      "metadata": {
        "colab": {
          "base_uri": "https://localhost:8080/"
        },
        "id": "Rnscof4wI6SB",
        "outputId": "20101b06-abd4-4dea-9c72-7b1090513c46"
      },
      "execution_count": 32,
      "outputs": [
        {
          "output_type": "stream",
          "name": "stdout",
          "text": [
            "['queen', 'prince', 'monarch', 'kingdom', 'throne', 'ii', 'iii', 'crown', 'reign', 'kings', 'brother', 'vi', 'henry', 'son', 'duke']\n"
          ]
        }
      ]
    },
    {
      "cell_type": "code",
      "source": [
        "print(find_nearest_neighbors(\"french\", glove_vectors_300, top_n=20))"
      ],
      "metadata": {
        "colab": {
          "base_uri": "https://localhost:8080/"
        },
        "id": "js3JejgYJ4G9",
        "outputId": "e36b0de3-d820-4998-b1d1-9af3731191de"
      },
      "execution_count": 34,
      "outputs": [
        {
          "output_type": "stream",
          "name": "stdout",
          "text": [
            "['france', 'belgian', 'paris', 'spanish', 'italian', 'british', 'german', 'prohertrib', 'chirac', 'jean', 'dutch', 'jacques', 'english', 'le', 'european', 'swiss', 'pierre', 'frenchman', 'canadian', 'parisian']\n"
          ]
        }
      ]
    },
    {
      "cell_type": "code",
      "source": [],
      "metadata": {
        "id": "Zio2TSi5J_rL"
      },
      "execution_count": null,
      "outputs": []
    }
  ]
}